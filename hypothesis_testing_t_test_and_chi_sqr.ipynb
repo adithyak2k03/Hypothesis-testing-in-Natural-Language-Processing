{
  "cells": [
    {
      "cell_type": "markdown",
      "id": "86eba4d3-4c54-4273-a342-47631351671d",
      "metadata": {
        "id": "86eba4d3-4c54-4273-a342-47631351671d"
      },
      "source": [
        "\\\\# Code for  Hypothesis testing"
      ]
    },
    {
      "cell_type": "markdown",
      "id": "3b4aac34",
      "metadata": {
        "id": "3b4aac34"
      },
      "source": [
        "--------------------------------------"
      ]
    },
    {
      "cell_type": "markdown",
      "id": "f952f644",
      "metadata": {
        "id": "f952f644"
      },
      "source": [
        "T-testing"
      ]
    },
    {
      "cell_type": "markdown",
      "id": "132ef73e-548c-470e-88c2-5e3daae6cafd",
      "metadata": {
        "id": "132ef73e-548c-470e-88c2-5e3daae6cafd"
      },
      "source": [
        "  FORMULA:\n",
        "  \n",
        "           x(bar) - Mu\n",
        "t=      --------------------------------\n",
        "\n",
        "          sqrt(square(S)/N)"
      ]
    },
    {
      "cell_type": "markdown",
      "id": "6ab63b92-1464-4774-abe1-a09c94b76215",
      "metadata": {
        "id": "6ab63b92-1464-4774-abe1-a09c94b76215"
      },
      "source": [
        "--------------------------------------------------------------------------------"
      ]
    },
    {
      "cell_type": "markdown",
      "id": "6c2bf15b-6a20-4728-8ca7-a7c8182a19bb",
      "metadata": {
        "id": "6c2bf15b-6a20-4728-8ca7-a7c8182a19bb"
      },
      "source": [
        "x -> Sample Mean \n",
        "\n",
        "Mu -> Expected Mean\n",
        "\n",
        "S^2 -> Variance of Sample\n",
        "\n",
        "N -> Sample Size\n",
        "\n",
        "t -> t-score\n",
        "\n",
        "a(alpha) - > critical value"
      ]
    },
    {
      "cell_type": "markdown",
      "id": "7f409bd7-fc06-4fa1-ae30-2b67e4d8f55d",
      "metadata": {
        "id": "7f409bd7-fc06-4fa1-ae30-2b67e4d8f55d"
      },
      "source": [
        "----------------------------------------------------------------------------------------------------------------------------"
      ]
    },
    {
      "cell_type": "markdown",
      "id": "c98b2d3c-6975-47d9-9024-7ea68384442f",
      "metadata": {
        "id": "c98b2d3c-6975-47d9-9024-7ea68384442f"
      },
      "source": [
        "Q: \n",
        "Occurence of \"new companies\" : 8\n",
        "\n",
        "Occurence of \"new\" : 15828\n",
        "\n",
        "Occurence of \"companies\" : 4675\n",
        "\n",
        "Sample Size : 14,307,668\n",
        "\n",
        "Null Hypothesis : There is no relation between the 2 given words \n",
        "\n",
        "Find whethere they are collocation or not"
      ]
    },
    {
      "cell_type": "code",
      "execution_count": null,
      "id": "57e7aa70-c835-4c3e-8c9b-3827278fe324",
      "metadata": {
        "id": "57e7aa70-c835-4c3e-8c9b-3827278fe324"
      },
      "outputs": [],
      "source": [
        "word1=\"new\"\n",
        "word2=\"companies\"\n",
        "\n",
        "count_12=8\n",
        "count_1=15828\n",
        "count_2=4675\n",
        "N=14307668\n"
      ]
    },
    {
      "cell_type": "code",
      "execution_count": null,
      "id": "7fc91774-34f0-4f1d-959f-f60feb861b4f",
      "metadata": {
        "tags": [],
        "id": "7fc91774-34f0-4f1d-959f-f60feb861b4f"
      },
      "outputs": [],
      "source": [
        "x_bar=count_12/N  #observed mean\n",
        "\n",
        "p_1=count_1/N\n",
        "p_2=count_2/N"
      ]
    },
    {
      "cell_type": "markdown",
      "id": "7d7de389-9a4a-42a3-adb1-4bf7c4700284",
      "metadata": {
        "id": "7d7de389-9a4a-42a3-adb1-4bf7c4700284"
      },
      "source": [
        "Mu = P(new,companies)\n",
        "  => P(new) x P(companies)"
      ]
    },
    {
      "cell_type": "code",
      "execution_count": null,
      "id": "67a571a8-0700-4d01-b86d-3c971bb965d0",
      "metadata": {
        "id": "67a571a8-0700-4d01-b86d-3c971bb965d0"
      },
      "outputs": [],
      "source": [
        "Mu=p_1 * p_2"
      ]
    },
    {
      "cell_type": "markdown",
      "id": "53ee1720-b41f-4685-a161-37a2d11691c4",
      "metadata": {
        "id": "53ee1720-b41f-4685-a161-37a2d11691c4"
      },
      "source": [
        "Since the given distribution is binomial\n",
        "\n",
        "S^2 = P(1-P) =(approx.) P\n",
        "=> S^2=P=x_bar"
      ]
    },
    {
      "cell_type": "code",
      "execution_count": null,
      "id": "1cf338ea-f8d2-48bf-a32b-72c7baebfe18",
      "metadata": {
        "id": "1cf338ea-f8d2-48bf-a32b-72c7baebfe18"
      },
      "outputs": [],
      "source": [
        "Sqr_S=x_bar"
      ]
    },
    {
      "cell_type": "code",
      "execution_count": null,
      "id": "b77c1afd-62a4-4083-89ef-74ecac6fd75c",
      "metadata": {
        "id": "b77c1afd-62a4-4083-89ef-74ecac6fd75c",
        "outputId": "bd813dc6-4719-4f82-d26d-cd242159df5a"
      },
      "outputs": [
        {
          "data": {
            "text/plain": [
              "0.9999319894802036"
            ]
          },
          "execution_count": 7,
          "metadata": {},
          "output_type": "execute_result"
        }
      ],
      "source": [
        "import math as m\n",
        "\n",
        "t=(x_bar - Mu)/m.sqrt(Sqr_S/N)\n",
        "t"
      ]
    },
    {
      "cell_type": "markdown",
      "id": "edfb9353-87ca-4d04-b0b1-6e6549961869",
      "metadata": {
        "id": "edfb9353-87ca-4d04-b0b1-6e6549961869"
      },
      "source": [
        "Since a(alpha) i.e confidence level is given as 0.005 and degree of freedom>1000 ====> we get Critical value=2.576 "
      ]
    },
    {
      "cell_type": "code",
      "execution_count": null,
      "id": "3a097bdd-f73d-42f7-a66f-df066520c4b7",
      "metadata": {
        "id": "3a097bdd-f73d-42f7-a66f-df066520c4b7",
        "outputId": "1bad1abf-e782-4c86-b471-beca245e9933"
      },
      "outputs": [
        {
          "name": "stdout",
          "output_type": "stream",
          "text": [
            "We have to Accept the Null hypothesis.\n",
            "Therefore there is no collocation between new and companies\n"
          ]
        }
      ],
      "source": [
        "crit_val=2.576\n",
        "\n",
        "\n",
        "\n",
        "if crit_val>t:\n",
        "    print(f'We have to Accept the Null hypothesis.\\nTherefore there is no collocation between {word1} and {word2}')\n",
        "else:\n",
        "    print(f'Null hypothesis is contradicted.\\nTherefore there is a collocation between {word1} and {word2}')"
      ]
    },
    {
      "cell_type": "markdown",
      "id": "10c0fd8f-327b-4c33-b0f8-f757f2933374",
      "metadata": {
        "id": "10c0fd8f-327b-4c33-b0f8-f757f2933374"
      },
      "source": [
        "-------------------------"
      ]
    },
    {
      "cell_type": "markdown",
      "id": "8c3e90c0-5575-4790-b570-1bbfa1129664",
      "metadata": {
        "id": "8c3e90c0-5575-4790-b570-1bbfa1129664"
      },
      "source": [
        "---"
      ]
    },
    {
      "cell_type": "markdown",
      "id": "83b103ef-b142-4b3c-b38f-1b1143c34797",
      "metadata": {
        "id": "83b103ef-b142-4b3c-b38f-1b1143c34797"
      },
      "source": [
        "Chi Square Test"
      ]
    },
    {
      "cell_type": "markdown",
      "id": "94e07882-343e-4136-b60a-cabf5473a226",
      "metadata": {
        "id": "94e07882-343e-4136-b60a-cabf5473a226"
      },
      "source": [
        "-------------"
      ]
    },
    {
      "cell_type": "markdown",
      "id": "9bb417ff-a0df-4a68-a0bd-5b5d28899f8e",
      "metadata": {
        "id": "9bb417ff-a0df-4a68-a0bd-5b5d28899f8e"
      },
      "source": [
        "FORMULA:\n",
        "\n",
        "chi_sqr=  SIGMA( (OBJ_mean - EXP_mean)^2  /   EXP_mean   )"
      ]
    },
    {
      "cell_type": "markdown",
      "id": "14c4ff54-b630-4bf1-b9a1-1dddcd5462a4",
      "metadata": {
        "id": "14c4ff54-b630-4bf1-b9a1-1dddcd5462a4"
      },
      "source": [
        "--------------"
      ]
    },
    {
      "cell_type": "code",
      "execution_count": null,
      "id": "39e27ee1-4877-4b62-ad41-3e619bb4b74e",
      "metadata": {
        "tags": [],
        "id": "39e27ee1-4877-4b62-ad41-3e619bb4b74e"
      },
      "outputs": [],
      "source": [
        "c_w1=count_1\n",
        "c_n_w1=count_2-count_12\n",
        "c_w2=count_2\n",
        "c_n_w2=count_1-count_12\n"
      ]
    },
    {
      "cell_type": "code",
      "execution_count": null,
      "id": "4050363e-1aca-4c81-995d-c5c79fe3724f",
      "metadata": {
        "id": "4050363e-1aca-4c81-995d-c5c79fe3724f"
      },
      "outputs": [],
      "source": []
    },
    {
      "cell_type": "code",
      "execution_count": null,
      "id": "9877757b-6d6c-4c90-abca-4ae2519e4ac5",
      "metadata": {
        "tags": [],
        "id": "9877757b-6d6c-4c90-abca-4ae2519e4ac5"
      },
      "outputs": [],
      "source": [
        "l1=[[a,b],[c,d]]=[[count_12,c_n_w1],[c_n_w2,N-c_n_w1-c_n_w2]]"
      ]
    },
    {
      "cell_type": "code",
      "execution_count": null,
      "id": "97635d9d-51a9-49a1-a76d-dc7237e65292",
      "metadata": {
        "id": "97635d9d-51a9-49a1-a76d-dc7237e65292",
        "outputId": "5e2766c1-195d-41ea-afb0-92413b87adc1"
      },
      "outputs": [
        {
          "data": {
            "text/plain": [
              "[[8, 4667], [15820, 14287181]]"
            ]
          },
          "execution_count": 11,
          "metadata": {},
          "output_type": "execute_result"
        }
      ],
      "source": [
        "l1"
      ]
    },
    {
      "cell_type": "code",
      "execution_count": null,
      "id": "20d47593-56ec-400b-ba9e-e652f2d8eba5",
      "metadata": {
        "id": "20d47593-56ec-400b-ba9e-e652f2d8eba5"
      },
      "outputs": [],
      "source": [
        "# [[count_12,count_2-count_12],[count_1-count_12,N-count_12]]"
      ]
    },
    {
      "cell_type": "code",
      "execution_count": null,
      "id": "e58b0569-a7a4-460f-b2a2-a421af9e4b73",
      "metadata": {
        "id": "e58b0569-a7a4-460f-b2a2-a421af9e4b73"
      },
      "outputs": [],
      "source": [
        "c_w1=a+c\n",
        "c_not_w1=b+d\n",
        "c_w2=a+b\n",
        "c_not_w2=c+d"
      ]
    },
    {
      "cell_type": "code",
      "execution_count": null,
      "id": "38ee1f0d-7f9c-4306-9316-2defb2fbd0de",
      "metadata": {
        "id": "38ee1f0d-7f9c-4306-9316-2defb2fbd0de"
      },
      "outputs": [],
      "source": []
    },
    {
      "cell_type": "code",
      "execution_count": null,
      "id": "a3fae6d2-70ab-48f8-a5ab-9c5d98c1b1c7",
      "metadata": {
        "id": "a3fae6d2-70ab-48f8-a5ab-9c5d98c1b1c7"
      },
      "outputs": [],
      "source": [
        "l2=[[p,q],[r,s]]=[[c_w1*c_w2/N,c_not_w1*c_w2/N],[c_w1*c_not_w2/N,c_not_w1*c_not_w2/N]]"
      ]
    },
    {
      "cell_type": "code",
      "execution_count": null,
      "id": "65cbd9b9-9518-4aa5-b069-1c42e77b98d9",
      "metadata": {
        "id": "65cbd9b9-9518-4aa5-b069-1c42e77b98d9",
        "outputId": "afb968b9-0b06-44dc-b9ae-64ed64b8681c"
      },
      "outputs": [
        {
          "data": {
            "text/plain": [
              "[[5.17176523805277, 4669.830848744883], [15822.8370848415, 14287186.160305649]]"
            ]
          },
          "execution_count": 15,
          "metadata": {},
          "output_type": "execute_result"
        }
      ],
      "source": [
        "l2"
      ]
    },
    {
      "cell_type": "code",
      "execution_count": null,
      "id": "8761fecc-372f-44d9-9f3c-fe35d5cb4079",
      "metadata": {
        "id": "8761fecc-372f-44d9-9f3c-fe35d5cb4079",
        "outputId": "f75acaab-29ef-4251-a391-99b2190cc594"
      },
      "outputs": [
        {
          "name": "stdout",
          "output_type": "stream",
          "text": [
            "8 - 5.17176523805277\n",
            "4667 - 4669.830848744883\n",
            "15820 - 15822.8370848415\n",
            "14287181 - 14287186.160305649\n"
          ]
        }
      ],
      "source": [
        "chi_sqr=0\n",
        "for i in range(len(l1)):\n",
        "    for j in range(len(l1[i])):\n",
        "        print(l1[i][j],'-',l2[i][j])\n",
        "        # print(       pow(l1[i][j] - l2[i][j],2)/l2[i][j]       )\n",
        "        chi_sqr=chi_sqr+pow(l1[i][j] - l2[i][j],2)/l2[i][j]"
      ]
    },
    {
      "cell_type": "code",
      "execution_count": null,
      "id": "54f32027-6789-4541-b3d6-396e4b54a4c7",
      "metadata": {
        "id": "54f32027-6789-4541-b3d6-396e4b54a4c7",
        "outputId": "5521d282-f02b-4a58-8c8a-9c850787e827"
      },
      "outputs": [
        {
          "data": {
            "text/plain": [
              "1.5488768459119042"
            ]
          },
          "execution_count": 17,
          "metadata": {},
          "output_type": "execute_result"
        }
      ],
      "source": [
        "chi_sqr"
      ]
    },
    {
      "cell_type": "markdown",
      "id": "d3f15680-d565-4a97-a7d7-47830c65889a",
      "metadata": {
        "id": "d3f15680-d565-4a97-a7d7-47830c65889a"
      },
      "source": [
        "Since we have 2 rows and 2 columns"
      ]
    },
    {
      "cell_type": "code",
      "execution_count": null,
      "id": "a3342874-1f67-4818-96c6-0ff6763e0cc6",
      "metadata": {
        "id": "a3342874-1f67-4818-96c6-0ff6763e0cc6",
        "outputId": "534c55bc-cc2d-4729-da75-775be12bc0fb"
      },
      "outputs": [
        {
          "name": "stdout",
          "output_type": "stream",
          "text": [
            "Degree of freedom is 1\n"
          ]
        }
      ],
      "source": [
        "r=2\n",
        "c=2\n",
        "DF= (r-1)*(c-1)  #Degree of freedom \n",
        "print(\"Degree of freedom is\",DF)"
      ]
    },
    {
      "cell_type": "markdown",
      "id": "b839749d-fe6d-4152-a083-d0166652d52a",
      "metadata": {
        "id": "b839749d-fe6d-4152-a083-d0166652d52a"
      },
      "source": [
        "Using alpha(confidence level)=0.005  and   T-table we find critical value = 6.314 "
      ]
    },
    {
      "cell_type": "code",
      "execution_count": null,
      "id": "47bbd6b5-7186-4ccf-ac96-3180cffe044a",
      "metadata": {
        "id": "47bbd6b5-7186-4ccf-ac96-3180cffe044a",
        "outputId": "acea703e-7281-4554-f71b-1e6482b42d24"
      },
      "outputs": [
        {
          "name": "stdout",
          "output_type": "stream",
          "text": [
            "We have to Accept the Null hypothesis.\n",
            "Therefore there is no collocation between new and companies\n"
          ]
        }
      ],
      "source": [
        "crit_val=6.314\n",
        "\n",
        "if crit_val>chi_sqr:\n",
        "    print(f'We have to Accept the Null hypothesis.\\nTherefore there is no collocation between {word1} and {word2}')\n",
        "else:\n",
        "    print(f'Null hypothesis is contradicted.\\nTherefore there is a collocation between {word1} and {word2}')"
      ]
    }
  ],
  "metadata": {
    "kernelspec": {
      "display_name": "Python 3 (ipykernel)",
      "language": "python",
      "name": "python3"
    },
    "language_info": {
      "codemirror_mode": {
        "name": "ipython",
        "version": 3
      },
      "file_extension": ".py",
      "mimetype": "text/x-python",
      "name": "python",
      "nbconvert_exporter": "python",
      "pygments_lexer": "ipython3",
      "version": "3.9.5"
    },
    "colab": {
      "provenance": [],
      "collapsed_sections": []
    }
  },
  "nbformat": 4,
  "nbformat_minor": 5
}